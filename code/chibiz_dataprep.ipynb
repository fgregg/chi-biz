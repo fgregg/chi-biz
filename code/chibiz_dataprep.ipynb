{
 "cells": [
  {
   "cell_type": "markdown",
   "metadata": {},
   "source": [
    "Exploratory Analysis of Chicago Business Tax Data\n"
   ]
  },
  {
   "cell_type": "code",
   "execution_count": 1,
   "metadata": {
    "collapsed": true
   },
   "outputs": [],
   "source": [
    "import pandas as pd\n",
    "\n"
   ]
  },
  {
   "cell_type": "code",
   "execution_count": 6,
   "metadata": {
    "collapsed": false
   },
   "outputs": [
    {
     "name": "stderr",
     "output_type": "stream",
     "text": [
      "/Users/matthewgee/anaconda/lib/python2.7/site-packages/pandas/io/parsers.py:1159: DtypeWarning: Columns (9) have mixed types. Specify dtype option on import or set low_memory=False.\n",
      "  data = self._reader.read(nrows)\n"
     ]
    }
   ],
   "source": [
    "taxpayer_df = pd.read_csv(\"/Users/matthewgee/research/chi-biz/data/Annual_Taxpayer_Location_Address_List-Chicago-2014 (1).csv\")              \n",
    "businesslc_df = pd.read_csv(\"/Users/matthewgee/research/chi-biz/data/Business_Licenses_-_Current_Active.csv\")\n"
   ]
  },
  {
   "cell_type": "code",
   "execution_count": 10,
   "metadata": {
    "collapsed": false
   },
   "outputs": [
    {
     "data": {
      "text/plain": [
       "Index([u'ID', u'LICENSE ID', u'ACCOUNT NUMBER', u'SITE NUMBER', u'LEGAL NAME', u'DOING BUSINESS AS NAME', u'ADDRESS', u'CITY', u'STATE', u'ZIP CODE', u'WARD', u'PRECINCT', u'POLICE DISTRICT', u'LICENSE CODE', u'LICENSE DESCRIPTION', u'LICENSE NUMBER', u'APPLICATION TYPE', u'APPLICATION CREATED DATE', u'APPLICATION REQUIREMENTS COMPLETE', u'PAYMENT DATE', u'CONDITIONAL APPROVAL', u'LICENSE TERM START DATE', u'LICENSE TERM EXPIRATION DATE', u'LICENSE APPROVED FOR ISSUANCE', u'DATE ISSUED', u'LICENSE STATUS', u'LICENSE STATUS CHANGE DATE', u'SSA', u'LATITUDE', u'LONGITUDE', u'LOCATION'], dtype='object')"
      ]
     },
     "execution_count": 10,
     "metadata": {},
     "output_type": "execute_result"
    }
   ],
   "source": [
    "businesslc_df.head()\n",
    "businesslc_df.columns\n",
    "#businesslc_df.groupby(\n"
   ]
  },
  {
   "cell_type": "code",
   "execution_count": 21,
   "metadata": {
    "collapsed": false
   },
   "outputs": [
    {
     "data": {
      "text/plain": [
       "0      True\n",
       "1     False\n",
       "2      True\n",
       "3     False\n",
       "4     False\n",
       "5     False\n",
       "6     False\n",
       "7     False\n",
       "8     False\n",
       "9     False\n",
       "10    False\n",
       "11    False\n",
       "12    False\n",
       "13    False\n",
       "14    False\n",
       "...\n",
       "103703    False\n",
       "103704    False\n",
       "103705    False\n",
       "103706    False\n",
       "103707    False\n",
       "103708    False\n",
       "103709    False\n",
       "103710    False\n",
       "103711    False\n",
       "103712    False\n",
       "103713    False\n",
       "103714    False\n",
       "103715    False\n",
       "103716    False\n",
       "103717    False\n",
       "Length: 103718, dtype: bool"
      ]
     },
     "execution_count": 21,
     "metadata": {},
     "output_type": "execute_result"
    }
   ],
   "source": [
    "business_normal = businesslc_df.groupby('APPLICATION TYPE').cumcount()==0\n",
    "#businesslc_df.filter(lambda x: \n",
    "business_normal"
   ]
  },
  {
   "cell_type": "code",
   "execution_count": null,
   "metadata": {
    "collapsed": true
   },
   "outputs": [],
   "source": []
  }
 ],
 "metadata": {
  "kernelspec": {
   "display_name": "Python 2",
   "language": "python",
   "name": "python2"
  },
  "language_info": {
   "codemirror_mode": {
    "name": "ipython",
    "version": 2
   },
   "file_extension": ".py",
   "mimetype": "text/x-python",
   "name": "python",
   "nbconvert_exporter": "python",
   "pygments_lexer": "ipython2",
   "version": "2.7.9"
  }
 },
 "nbformat": 4,
 "nbformat_minor": 0
}
